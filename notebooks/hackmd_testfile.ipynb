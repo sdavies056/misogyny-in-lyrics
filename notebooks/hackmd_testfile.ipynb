{
 "cells": [
  {
   "cell_type": "code",
   "execution_count": null,
   "id": "a1309936",
   "metadata": {},
   "outputs": [],
   "source": [
    "This is a hackMD testfile"
   ]
  },
  {
   "cell_type": "markdown",
   "id": "3eac18c9",
   "metadata": {},
   "source": [
    "This is a hackMD testfile"
   ]
  }
 ],
 "metadata": {
  "language_info": {
   "name": "python"
  }
 },
 "nbformat": 4,
 "nbformat_minor": 5
}
